{
 "cells": [
  {
   "cell_type": "code",
   "execution_count": 6,
   "id": "049c60ac",
   "metadata": {},
   "outputs": [],
   "source": [
    "import pandas as pd\n"
   ]
  },
  {
   "cell_type": "code",
   "execution_count": 12,
   "id": "5930f793",
   "metadata": {},
   "outputs": [],
   "source": [
    "data= pd.read_excel('ChainAegis.xlsx')"
   ]
  },
  {
   "cell_type": "code",
   "execution_count": 15,
   "id": "f824a4ef",
   "metadata": {},
   "outputs": [
    {
     "data": {
      "text/plain": [
       "0      According to the security monitoring of ChainA...\n",
       "1      According to the security monitoring of ChainA...\n",
       "2      According to the security monitoring of ChainA...\n",
       "3      According to the security monitoring of ChainA...\n",
       "4      According to the security monitoring of ChainA...\n",
       "                             ...                        \n",
       "665    Ronin Network attackers again transferred 3000...\n",
       "666    Encrypted data websites such as Etherscan, coi...\n",
       "667    DAO and Oracle Exploit，$3 Million taken in a c...\n",
       "668    Reentrancy attack，On 30 April 2022, Fei Protoc...\n",
       "669    On 30 April 2022, Saddle Finance was the targe...\n",
       "Name: index_ltlcont__7jso, Length: 670, dtype: object"
      ]
     },
     "execution_count": 15,
     "metadata": {},
     "output_type": "execute_result"
    }
   ],
   "source": [
    "data['index_ltlcont__7jso']"
   ]
  },
  {
   "cell_type": "code",
   "execution_count": null,
   "id": "8bbd468f",
   "metadata": {},
   "outputs": [],
   "source": []
  }
 ],
 "metadata": {
  "kernelspec": {
   "display_name": "Python 3 (ipykernel)",
   "language": "python",
   "name": "python3"
  },
  "language_info": {
   "codemirror_mode": {
    "name": "ipython",
    "version": 3
   },
   "file_extension": ".py",
   "mimetype": "text/x-python",
   "name": "python",
   "nbconvert_exporter": "python",
   "pygments_lexer": "ipython3",
   "version": "3.9.13"
  }
 },
 "nbformat": 4,
 "nbformat_minor": 5
}
