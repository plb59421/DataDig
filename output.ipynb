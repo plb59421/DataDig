{
 "cells": [
  {
   "cell_type": "markdown",
   "id": "f3834cf1",
   "metadata": {},
   "source": [
    "# 结果输出"
   ]
  },
  {
   "cell_type": "code",
   "execution_count": 4,
   "id": "cfb672f1",
   "metadata": {},
   "outputs": [],
   "source": [
    "import joblib\n",
    "import pandas as pd\n"
   ]
  },
  {
   "cell_type": "code",
   "execution_count": 23,
   "id": "fbe9c31e",
   "metadata": {},
   "outputs": [],
   "source": [
    "model = joblib.load('model.pkl')\n",
    "data = pd.read_csv('feature1.csv')\n",
    "data_id =pd.read_csv('new_data3.csv')"
   ]
  },
  {
   "cell_type": "code",
   "execution_count": 24,
   "id": "91c6d6e3",
   "metadata": {},
   "outputs": [],
   "source": [
    "data_id=data_id['user_id ']"
   ]
  },
  {
   "cell_type": "code",
   "execution_count": 25,
   "id": "d60c4473",
   "metadata": {},
   "outputs": [],
   "source": [
    "output = model.predict(data)"
   ]
  },
  {
   "cell_type": "code",
   "execution_count": 28,
   "id": "794f036f",
   "metadata": {},
   "outputs": [],
   "source": [
    "df = pd.DataFrame({'user_id':data_id, 'predict':output})\n"
   ]
  },
  {
   "cell_type": "code",
   "execution_count": 30,
   "id": "e6cabfa7",
   "metadata": {},
   "outputs": [],
   "source": [
    "df.to_csv('sample_output.csv')"
   ]
  },
  {
   "cell_type": "code",
   "execution_count": null,
   "id": "24b7d1fb",
   "metadata": {},
   "outputs": [],
   "source": []
  }
 ],
 "metadata": {
  "kernelspec": {
   "display_name": "Python 3 (ipykernel)",
   "language": "python",
   "name": "python3"
  },
  "language_info": {
   "codemirror_mode": {
    "name": "ipython",
    "version": 3
   },
   "file_extension": ".py",
   "mimetype": "text/x-python",
   "name": "python",
   "nbconvert_exporter": "python",
   "pygments_lexer": "ipython3",
   "version": "3.9.13"
  }
 },
 "nbformat": 4,
 "nbformat_minor": 5
}
